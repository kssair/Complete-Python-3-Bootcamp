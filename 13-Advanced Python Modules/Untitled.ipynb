{
 "cells": [
  {
   "cell_type": "code",
   "execution_count": 4,
   "metadata": {},
   "outputs": [],
   "source": [
    "#named tuple like quick object/class type\n",
    "from collections import namedtuple \n",
    "tupledef = namedtuple('tupledef','atr1 atr2 atr3')\n",
    "tup1 = tupledef(atr1=\"value1\", atr2=\"value2\",atr3=\"value3\" )\n"
   ]
  },
  {
   "cell_type": "code",
   "execution_count": 18,
   "metadata": {},
   "outputs": [
    {
     "name": "stdout",
     "output_type": "stream",
     "text": [
      "This is tupledef: <class '__main__.tupledef'>\n",
      "This is tup1: tupledef(atr1='value1', atr2='value2', atr3='value3')\n",
      "This is value of atr2: value2\n"
     ]
    }
   ],
   "source": [
    "print(f\"This is tupledef: {tupledef}\")\n",
    "print(f\"This is tup1: {tup1}\")\n",
    "print(f\"This is value of atr2: {tup1.atr2}\")"
   ]
  },
  {
   "cell_type": "code",
   "execution_count": 21,
   "metadata": {},
   "outputs": [
    {
     "name": "stdout",
     "output_type": "stream",
     "text": [
      "Help on built-in function pow in module builtins:\n",
      "\n",
      "pow(x, y, z=None, /)\n",
      "    Equivalent to x**y (with two arguments) or x**y % z (with three arguments)\n",
      "    \n",
      "    Some types, such as ints, are able to use a more efficient algorithm when\n",
      "    invoked using the three argument form.\n",
      "\n"
     ]
    }
   ],
   "source": [
    "import math\n",
    "pow(2,3,2)\n",
    "help(pow)"
   ]
  },
  {
   "cell_type": "code",
   "execution_count": 22,
   "metadata": {},
   "outputs": [
    {
     "name": "stdout",
     "output_type": "stream",
     "text": [
      "1\n"
     ]
    }
   ],
   "source": [
    "print(1)"
   ]
  },
  {
   "cell_type": "code",
   "execution_count": null,
   "metadata": {},
   "outputs": [],
   "source": []
  }
 ],
 "metadata": {
  "kernelspec": {
   "display_name": "Python 3",
   "language": "python",
   "name": "python3"
  },
  "language_info": {
   "codemirror_mode": {
    "name": "ipython",
    "version": 3
   },
   "file_extension": ".py",
   "mimetype": "text/x-python",
   "name": "python",
   "nbconvert_exporter": "python",
   "pygments_lexer": "ipython3",
   "version": "3.7.4"
  }
 },
 "nbformat": 4,
 "nbformat_minor": 4
}
