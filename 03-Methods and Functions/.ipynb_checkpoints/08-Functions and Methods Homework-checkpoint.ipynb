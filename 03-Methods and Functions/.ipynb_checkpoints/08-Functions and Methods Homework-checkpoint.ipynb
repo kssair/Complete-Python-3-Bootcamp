{
 "cells": [
  {
   "cell_type": "markdown",
   "metadata": {},
   "source": [
    "# Functions and Methods Homework \n",
    "\n",
    "Complete the following questions:\n",
    "____\n",
    "**Write a function that computes the volume of a sphere given its radius.**\n",
    "<p>The volume of a sphere is given as $$\\frac{4}{3} πr^3$$</p>"
   ]
  },
  {
   "cell_type": "code",
   "execution_count": 4,
   "metadata": {},
   "outputs": [],
   "source": [
    "def vol(rad):\n",
    "    pi = 3.14\n",
    "    return 4/3 * pi * rad**3"
   ]
  },
  {
   "cell_type": "code",
   "execution_count": 6,
   "metadata": {},
   "outputs": [
    {
     "data": {
      "text/plain": [
       "33.49333333333333"
      ]
     },
     "execution_count": 6,
     "metadata": {},
     "output_type": "execute_result"
    }
   ],
   "source": [
    "# Check\n",
    "vol(2)"
   ]
  },
  {
   "cell_type": "markdown",
   "metadata": {},
   "source": [
    "___\n",
    "**Write a function that checks whether a number is in a given range (inclusive of high and low)**"
   ]
  },
  {
   "cell_type": "code",
   "execution_count": 7,
   "metadata": {},
   "outputs": [],
   "source": [
    "def ran_check(num,low,high):\n",
    "    if num >= low and num <= high:\n",
    "        return True\n",
    "    else:\n",
    "        return False"
   ]
  },
  {
   "cell_type": "code",
   "execution_count": 8,
   "metadata": {},
   "outputs": [
    {
     "data": {
      "text/plain": [
       "True"
      ]
     },
     "execution_count": 8,
     "metadata": {},
     "output_type": "execute_result"
    }
   ],
   "source": [
    "# Check\n",
    "ran_check(5,2,7)"
   ]
  },
  {
   "cell_type": "markdown",
   "metadata": {},
   "source": [
    "If you only wanted to return a boolean:"
   ]
  },
  {
   "cell_type": "code",
   "execution_count": 5,
   "metadata": {},
   "outputs": [],
   "source": [
    "def ran_bool(num,low,high):\n",
    "    pass"
   ]
  },
  {
   "cell_type": "code",
   "execution_count": 6,
   "metadata": {},
   "outputs": [
    {
     "data": {
      "text/plain": [
       "True"
      ]
     },
     "execution_count": 6,
     "metadata": {},
     "output_type": "execute_result"
    }
   ],
   "source": [
    "ran_bool(3,1,10)"
   ]
  },
  {
   "cell_type": "markdown",
   "metadata": {},
   "source": [
    "____\n",
    "**Write a Python function that accepts a string and calculates the number of upper case letters and lower case letters.**\n",
    "\n",
    "    Sample String : 'Hello Mr. Rogers, how are you this fine Tuesday?'\n",
    "    Expected Output : \n",
    "    No. of Upper case characters : 4\n",
    "    No. of Lower case Characters : 33\n",
    "\n",
    "HINT: Two string methods that might prove useful: **.isupper()** and **.islower()**\n",
    "\n",
    "If you feel ambitious, explore the Collections module to solve this problem!"
   ]
  },
  {
   "cell_type": "code",
<<<<<<< HEAD
   "execution_count": 1,
=======
   "execution_count": 9,
>>>>>>> 45be765ebf806e7ee5acc846fd098e7a8c3155a2
   "metadata": {},
   "outputs": [],
   "source": [
    "def up_low(s):\n",
    "    #or regular expressions \n",
    "    low = 0\n",
    "    capital = 0\n",
    "    for i in s:\n",
    "        if i.isupper():\n",
    "            capital += 1\n",
    "        elif i.islower():\n",
    "            low += 1\n",
    "            \n",
    "    return f\"There is {capital} capital characters in the string and {low} lower.\""
   ]
  },
  {
   "cell_type": "code",
<<<<<<< HEAD
   "execution_count": 2,
   "metadata": {},
   "outputs": [
    {
     "data": {
      "text/plain": [
       "'There is 4 capital characters in the string and 33 lower.'"
      ]
     },
     "execution_count": 2,
     "metadata": {},
     "output_type": "execute_result"
=======
   "execution_count": 8,
   "metadata": {},
   "outputs": [
    {
     "name": "stdout",
     "output_type": "stream",
     "text": [
      "Original String :  Hello Mr. Rogers, how are you this fine Tuesday?\n",
      "No. of Upper case characters :  4\n",
      "No. of Lower case Characters :  33\n"
     ]
>>>>>>> 45be765ebf806e7ee5acc846fd098e7a8c3155a2
    }
   ],
   "source": [
    "s = 'Hello Mr. Rogers, how are you this fine Tuesday?'\n",
    "up_low(s)"
   ]
  },
  {
   "cell_type": "code",
<<<<<<< HEAD
   "execution_count": 3,
=======
   "execution_count": 10,
>>>>>>> 45be765ebf806e7ee5acc846fd098e7a8c3155a2
   "metadata": {},
   "outputs": [
    {
     "data": {
      "text/plain": [
       "'There is 4 capital characters in the string and 33 lower.'"
      ]
     },
<<<<<<< HEAD
     "execution_count": 3,
=======
     "execution_count": 10,
>>>>>>> 45be765ebf806e7ee5acc846fd098e7a8c3155a2
     "metadata": {},
     "output_type": "execute_result"
    }
   ],
   "source": [
    "s = 'Hello Mr. Rogers, how are you this fine Tuesday?'\n",
    "up_low(s)"
   ]
  },
  {
   "cell_type": "markdown",
   "metadata": {},
   "source": [
    "____\n",
    "**Write a Python function that takes a list and returns a new list with unique elements of the first list.**\n",
    "\n",
    "    Sample List : [1,1,1,1,2,2,3,3,3,3,4,5]\n",
    "    Unique List : [1, 2, 3, 4, 5]"
   ]
  },
  {
   "cell_type": "code",
<<<<<<< HEAD
   "execution_count": 4,
=======
   "execution_count": 9,
>>>>>>> 45be765ebf806e7ee5acc846fd098e7a8c3155a2
   "metadata": {},
   "outputs": [],
   "source": [
    "def unique_list(lst):\n",
<<<<<<< HEAD
    "    return set(lst)"
=======
    "    pass"
>>>>>>> 45be765ebf806e7ee5acc846fd098e7a8c3155a2
   ]
  },
  {
   "cell_type": "code",
<<<<<<< HEAD
   "execution_count": 5,
=======
   "execution_count": 10,
>>>>>>> 45be765ebf806e7ee5acc846fd098e7a8c3155a2
   "metadata": {},
   "outputs": [
    {
     "data": {
      "text/plain": [
<<<<<<< HEAD
       "{1, 2, 3, 4, 5}"
      ]
     },
     "execution_count": 5,
=======
       "[1, 2, 3, 4, 5]"
      ]
     },
     "execution_count": 10,
>>>>>>> 45be765ebf806e7ee5acc846fd098e7a8c3155a2
     "metadata": {},
     "output_type": "execute_result"
    }
   ],
   "source": [
    "unique_list([1,1,1,1,2,2,3,3,3,3,4,5])"
   ]
  },
  {
   "cell_type": "markdown",
   "metadata": {},
   "source": [
    "____\n",
    "**Write a Python function to multiply all the numbers in a list.**\n",
    "\n",
    "    Sample List : [1, 2, 3, -4]\n",
    "    Expected Output : -24"
   ]
  },
  {
   "cell_type": "code",
   "execution_count": 11,
   "metadata": {},
   "outputs": [],
   "source": [
    "def multiply(numbers):  \n",
<<<<<<< HEAD
    "    #breakpoint()\n",
    "    #%debug\n",
    "    result =1\n",
    "    for i in numbers:\n",
    "        result*=i\n",
    "        print(result)\n",
    "    return result"
=======
    "    pass"
>>>>>>> 45be765ebf806e7ee5acc846fd098e7a8c3155a2
   ]
  },
  {
   "cell_type": "code",
   "execution_count": 12,
   "metadata": {},
   "outputs": [
    {
<<<<<<< HEAD
     "name": "stdout",
     "output_type": "stream",
     "text": [
      "1\n",
      "2\n",
      "6\n",
      "-24\n"
     ]
    },
    {
=======
>>>>>>> 45be765ebf806e7ee5acc846fd098e7a8c3155a2
     "data": {
      "text/plain": [
       "-24"
      ]
     },
     "execution_count": 12,
     "metadata": {},
     "output_type": "execute_result"
    }
   ],
   "source": [
<<<<<<< HEAD
    "#%debug\n",
    "multiply([1,2,3,-4])\n"
=======
    "multiply([1,2,3,-4])"
>>>>>>> 45be765ebf806e7ee5acc846fd098e7a8c3155a2
   ]
  },
  {
   "cell_type": "markdown",
   "metadata": {},
   "source": [
    "____\n",
    "**Write a Python function that checks whether a passed in string is palindrome or not.**\n",
    "\n",
    "Note: A palindrome is word, phrase, or sequence that reads the same backward as forward, e.g., madam or nurses run."
   ]
  },
  {
   "cell_type": "code",
<<<<<<< HEAD
   "execution_count": 15,
=======
   "execution_count": 13,
>>>>>>> 45be765ebf806e7ee5acc846fd098e7a8c3155a2
   "metadata": {},
   "outputs": [],
   "source": [
    "def palindrome(s):\n",
<<<<<<< HEAD
    "    if s == s[::-1]:\n",
    "        return True"
=======
    "    pass"
>>>>>>> 45be765ebf806e7ee5acc846fd098e7a8c3155a2
   ]
  },
  {
   "cell_type": "code",
<<<<<<< HEAD
   "execution_count": 16,
=======
   "execution_count": 14,
>>>>>>> 45be765ebf806e7ee5acc846fd098e7a8c3155a2
   "metadata": {},
   "outputs": [
    {
     "data": {
      "text/plain": [
       "True"
      ]
     },
<<<<<<< HEAD
     "execution_count": 16,
     "metadata": {},
     "output_type": "execute_result"
    }
   ],
   "source": [
    "palindrome('helleh')\n"
   ]
  },
  {
   "cell_type": "code",
   "execution_count": 13,
   "metadata": {},
   "outputs": [
    {
     "data": {
      "text/plain": [
       "'lheeh'"
      ]
     },
     "execution_count": 13,
=======
     "execution_count": 14,
>>>>>>> 45be765ebf806e7ee5acc846fd098e7a8c3155a2
     "metadata": {},
     "output_type": "execute_result"
    }
   ],
   "source": [
<<<<<<< HEAD
    "e='heehl'\n",
    "e[::-1]\n"
=======
    "palindrome('helleh')"
>>>>>>> 45be765ebf806e7ee5acc846fd098e7a8c3155a2
   ]
  },
  {
   "cell_type": "markdown",
   "metadata": {},
   "source": [
    "____\n",
    "#### Hard:\n",
    "\n",
    "**Write a Python function to check whether a string is pangram or not.**\n",
    "\n",
    "    Note : Pangrams are words or sentences containing every letter of the alphabet at least once.\n",
    "    For example : \"The quick brown fox jumps over the lazy dog\"\n",
    "\n",
    "Hint: Look at the string module"
   ]
  },
  {
   "cell_type": "code",
<<<<<<< HEAD
   "execution_count": 20,
=======
   "execution_count": 15,
>>>>>>> 45be765ebf806e7ee5acc846fd098e7a8c3155a2
   "metadata": {},
   "outputs": [],
   "source": [
    "import string\n",
    "\n",
    "def ispangram(str1, alphabet=string.ascii_lowercase):\n",
<<<<<<< HEAD
    "    for i in alphabet:\n",
    "        if i not in str1:\n",
    "            return False\n",
    "        else:\n",
    "            return True\n",
    "        "
=======
    "    pass"
>>>>>>> 45be765ebf806e7ee5acc846fd098e7a8c3155a2
   ]
  },
  {
   "cell_type": "code",
<<<<<<< HEAD
   "execution_count": 23,
=======
   "execution_count": 16,
>>>>>>> 45be765ebf806e7ee5acc846fd098e7a8c3155a2
   "metadata": {},
   "outputs": [
    {
     "data": {
      "text/plain": [
       "True"
      ]
     },
<<<<<<< HEAD
     "execution_count": 23,
=======
     "execution_count": 16,
>>>>>>> 45be765ebf806e7ee5acc846fd098e7a8c3155a2
     "metadata": {},
     "output_type": "execute_result"
    }
   ],
   "source": [
<<<<<<< HEAD
    "ispangram(\"The quick brown fox jumps over the lazy dog\")\n",
    "\n"
=======
    "ispangram(\"The quick brown fox jumps over the lazy dog\")"
>>>>>>> 45be765ebf806e7ee5acc846fd098e7a8c3155a2
   ]
  },
  {
   "cell_type": "code",
   "execution_count": 17,
   "metadata": {},
   "outputs": [
    {
     "data": {
      "text/plain": [
       "'abcdefghijklmnopqrstuvwxyz'"
      ]
     },
     "execution_count": 17,
     "metadata": {},
     "output_type": "execute_result"
    }
   ],
   "source": [
    "string.ascii_lowercase"
   ]
  },
  {
<<<<<<< HEAD
   "cell_type": "code",
   "execution_count": 24,
   "metadata": {},
   "outputs": [
    {
     "name": "stdout",
     "output_type": "stream",
     "text": [
      "liner\n"
     ]
    },
    {
     "data": {
      "text/plain": [
       "False"
      ]
     },
     "execution_count": 24,
     "metadata": {},
     "output_type": "execute_result"
    }
   ],
   "source": [
    "print(\"liner\")\n",
    "ispangram(\"The quick brown\")"
   ]
  },
  {
   "cell_type": "markdown",
   "metadata": {},
=======
   "cell_type": "markdown",
   "metadata": {
    "collapsed": true
   },
>>>>>>> 45be765ebf806e7ee5acc846fd098e7a8c3155a2
   "source": [
    "#### Great Job!"
   ]
  }
 ],
 "metadata": {
  "kernelspec": {
   "display_name": "Python 3",
   "language": "python",
   "name": "python3"
  },
  "language_info": {
   "codemirror_mode": {
    "name": "ipython",
    "version": 3
   },
   "file_extension": ".py",
   "mimetype": "text/x-python",
   "name": "python",
   "nbconvert_exporter": "python",
   "pygments_lexer": "ipython3",
   "version": "3.7.4"
  }
 },
 "nbformat": 4,
<<<<<<< HEAD
 "nbformat_minor": 4
=======
 "nbformat_minor": 1
>>>>>>> 45be765ebf806e7ee5acc846fd098e7a8c3155a2
}
